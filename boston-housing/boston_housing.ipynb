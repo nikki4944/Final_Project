{
 "cells": [
  {
   "cell_type": "code",
   "execution_count": 25,
   "id": "f725cbd3",
   "metadata": {},
   "outputs": [],
   "source": [
    "import pandas as pd\n",
    "from sklearn.model_selection import train_test_split\n",
    "from sklearn.linear_model import LinearRegression\n",
    "from sklearn.metrics import mean_squared_error, r2_score\n",
    "from sklearn.ensemble import RandomForestRegressor"
   ]
  },
  {
   "cell_type": "code",
   "execution_count": 26,
   "id": "2b2eeca8",
   "metadata": {},
   "outputs": [
    {
     "name": "stdout",
     "output_type": "stream",
     "text": [
      "Boston dataset at the beginning: (511, 14)\n"
     ]
    },
    {
     "data": {
      "text/html": [
       "<div>\n",
       "<style scoped>\n",
       "    .dataframe tbody tr th:only-of-type {\n",
       "        vertical-align: middle;\n",
       "    }\n",
       "\n",
       "    .dataframe tbody tr th {\n",
       "        vertical-align: top;\n",
       "    }\n",
       "\n",
       "    .dataframe thead th {\n",
       "        text-align: right;\n",
       "    }\n",
       "</style>\n",
       "<table border=\"1\" class=\"dataframe\">\n",
       "  <thead>\n",
       "    <tr style=\"text-align: right;\">\n",
       "      <th></th>\n",
       "      <th>CRIM</th>\n",
       "      <th>ZN</th>\n",
       "      <th>INDUS</th>\n",
       "      <th>CHAS</th>\n",
       "      <th>NOX</th>\n",
       "      <th>RM</th>\n",
       "      <th>AGE</th>\n",
       "      <th>DIS</th>\n",
       "      <th>RAD</th>\n",
       "      <th>TAX</th>\n",
       "      <th>PTRATIO</th>\n",
       "      <th>B</th>\n",
       "      <th>LSTAT</th>\n",
       "      <th>MEDV</th>\n",
       "    </tr>\n",
       "  </thead>\n",
       "  <tbody>\n",
       "    <tr>\n",
       "      <th>0</th>\n",
       "      <td>0.00632</td>\n",
       "      <td>18.0</td>\n",
       "      <td>2.31</td>\n",
       "      <td>0</td>\n",
       "      <td>0.538</td>\n",
       "      <td>6.575</td>\n",
       "      <td>65.2</td>\n",
       "      <td>4.0900</td>\n",
       "      <td>1</td>\n",
       "      <td>296</td>\n",
       "      <td>15.3</td>\n",
       "      <td>396.90</td>\n",
       "      <td>4.98</td>\n",
       "      <td>24.0</td>\n",
       "    </tr>\n",
       "    <tr>\n",
       "      <th>1</th>\n",
       "      <td>0.02731</td>\n",
       "      <td>0.0</td>\n",
       "      <td>7.07</td>\n",
       "      <td>0</td>\n",
       "      <td>0.469</td>\n",
       "      <td>6.421</td>\n",
       "      <td>78.9</td>\n",
       "      <td>4.9671</td>\n",
       "      <td>2</td>\n",
       "      <td>242</td>\n",
       "      <td>17.8</td>\n",
       "      <td>396.90</td>\n",
       "      <td>9.14</td>\n",
       "      <td>21.6</td>\n",
       "    </tr>\n",
       "    <tr>\n",
       "      <th>2</th>\n",
       "      <td>0.02729</td>\n",
       "      <td>0.0</td>\n",
       "      <td>7.07</td>\n",
       "      <td>0</td>\n",
       "      <td>0.469</td>\n",
       "      <td>7.185</td>\n",
       "      <td>61.1</td>\n",
       "      <td>4.9671</td>\n",
       "      <td>2</td>\n",
       "      <td>242</td>\n",
       "      <td>17.8</td>\n",
       "      <td>392.83</td>\n",
       "      <td>4.03</td>\n",
       "      <td>34.7</td>\n",
       "    </tr>\n",
       "    <tr>\n",
       "      <th>3</th>\n",
       "      <td>0.03237</td>\n",
       "      <td>0.0</td>\n",
       "      <td>2.18</td>\n",
       "      <td>0</td>\n",
       "      <td>0.458</td>\n",
       "      <td>6.998</td>\n",
       "      <td>45.8</td>\n",
       "      <td>6.0622</td>\n",
       "      <td>3</td>\n",
       "      <td>222</td>\n",
       "      <td>18.7</td>\n",
       "      <td>394.63</td>\n",
       "      <td>2.94</td>\n",
       "      <td>33.4</td>\n",
       "    </tr>\n",
       "    <tr>\n",
       "      <th>4</th>\n",
       "      <td>0.06905</td>\n",
       "      <td>0.0</td>\n",
       "      <td>2.18</td>\n",
       "      <td>0</td>\n",
       "      <td>0.458</td>\n",
       "      <td>7.147</td>\n",
       "      <td>54.2</td>\n",
       "      <td>6.0622</td>\n",
       "      <td>3</td>\n",
       "      <td>222</td>\n",
       "      <td>18.7</td>\n",
       "      <td>396.90</td>\n",
       "      <td>5.33</td>\n",
       "      <td>36.2</td>\n",
       "    </tr>\n",
       "    <tr>\n",
       "      <th>5</th>\n",
       "      <td>0.02985</td>\n",
       "      <td>0.0</td>\n",
       "      <td>2.18</td>\n",
       "      <td>0</td>\n",
       "      <td>0.458</td>\n",
       "      <td>6.430</td>\n",
       "      <td>58.7</td>\n",
       "      <td>6.0622</td>\n",
       "      <td>3</td>\n",
       "      <td>222</td>\n",
       "      <td>18.7</td>\n",
       "      <td>394.12</td>\n",
       "      <td>5.21</td>\n",
       "      <td>28.7</td>\n",
       "    </tr>\n",
       "    <tr>\n",
       "      <th>6</th>\n",
       "      <td>0.08829</td>\n",
       "      <td>12.5</td>\n",
       "      <td>7.87</td>\n",
       "      <td>0</td>\n",
       "      <td>0.524</td>\n",
       "      <td>6.012</td>\n",
       "      <td>66.6</td>\n",
       "      <td>5.5605</td>\n",
       "      <td>5</td>\n",
       "      <td>311</td>\n",
       "      <td>15.2</td>\n",
       "      <td>395.60</td>\n",
       "      <td>12.43</td>\n",
       "      <td>22.9</td>\n",
       "    </tr>\n",
       "    <tr>\n",
       "      <th>7</th>\n",
       "      <td>0.14455</td>\n",
       "      <td>12.5</td>\n",
       "      <td>7.87</td>\n",
       "      <td>0</td>\n",
       "      <td>0.524</td>\n",
       "      <td>6.172</td>\n",
       "      <td>96.1</td>\n",
       "      <td>5.9505</td>\n",
       "      <td>5</td>\n",
       "      <td>311</td>\n",
       "      <td>15.2</td>\n",
       "      <td>396.90</td>\n",
       "      <td>19.15</td>\n",
       "      <td>27.1</td>\n",
       "    </tr>\n",
       "    <tr>\n",
       "      <th>8</th>\n",
       "      <td>0.21124</td>\n",
       "      <td>12.5</td>\n",
       "      <td>7.87</td>\n",
       "      <td>0</td>\n",
       "      <td>0.524</td>\n",
       "      <td>5.631</td>\n",
       "      <td>100.0</td>\n",
       "      <td>6.0821</td>\n",
       "      <td>5</td>\n",
       "      <td>311</td>\n",
       "      <td>15.2</td>\n",
       "      <td>386.63</td>\n",
       "      <td>29.93</td>\n",
       "      <td>16.5</td>\n",
       "    </tr>\n",
       "    <tr>\n",
       "      <th>9</th>\n",
       "      <td>0.17004</td>\n",
       "      <td>12.5</td>\n",
       "      <td>7.87</td>\n",
       "      <td>0</td>\n",
       "      <td>0.524</td>\n",
       "      <td>6.004</td>\n",
       "      <td>85.9</td>\n",
       "      <td>6.5921</td>\n",
       "      <td>5</td>\n",
       "      <td>311</td>\n",
       "      <td>15.2</td>\n",
       "      <td>386.71</td>\n",
       "      <td>17.10</td>\n",
       "      <td>18.9</td>\n",
       "    </tr>\n",
       "  </tbody>\n",
       "</table>\n",
       "</div>"
      ],
      "text/plain": [
       "      CRIM    ZN  INDUS  CHAS    NOX     RM    AGE     DIS  RAD  TAX  PTRATIO  \\\n",
       "0  0.00632  18.0   2.31     0  0.538  6.575   65.2  4.0900    1  296     15.3   \n",
       "1  0.02731   0.0   7.07     0  0.469  6.421   78.9  4.9671    2  242     17.8   \n",
       "2  0.02729   0.0   7.07     0  0.469  7.185   61.1  4.9671    2  242     17.8   \n",
       "3  0.03237   0.0   2.18     0  0.458  6.998   45.8  6.0622    3  222     18.7   \n",
       "4  0.06905   0.0   2.18     0  0.458  7.147   54.2  6.0622    3  222     18.7   \n",
       "5  0.02985   0.0   2.18     0  0.458  6.430   58.7  6.0622    3  222     18.7   \n",
       "6  0.08829  12.5   7.87     0  0.524  6.012   66.6  5.5605    5  311     15.2   \n",
       "7  0.14455  12.5   7.87     0  0.524  6.172   96.1  5.9505    5  311     15.2   \n",
       "8  0.21124  12.5   7.87     0  0.524  5.631  100.0  6.0821    5  311     15.2   \n",
       "9  0.17004  12.5   7.87     0  0.524  6.004   85.9  6.5921    5  311     15.2   \n",
       "\n",
       "        B  LSTAT  MEDV  \n",
       "0  396.90   4.98  24.0  \n",
       "1  396.90   9.14  21.6  \n",
       "2  392.83   4.03  34.7  \n",
       "3  394.63   2.94  33.4  \n",
       "4  396.90   5.33  36.2  \n",
       "5  394.12   5.21  28.7  \n",
       "6  395.60  12.43  22.9  \n",
       "7  396.90  19.15  27.1  \n",
       "8  386.63  29.93  16.5  \n",
       "9  386.71  17.10  18.9  "
      ]
     },
     "execution_count": 26,
     "metadata": {},
     "output_type": "execute_result"
    }
   ],
   "source": [
    "# This step could potentially be replaced, and data could be loaded from the database instead.\n",
    "\n",
    "# Load data into the dataframe.\n",
    "boston_df = pd.read_csv('boston_housing.csv')\n",
    "print (f'Boston dataset at the beginning: {boston_df.shape}')\n",
    "boston_df.head(10)"
   ]
  },
  {
   "cell_type": "code",
   "execution_count": 27,
   "id": "2af648a7",
   "metadata": {},
   "outputs": [
    {
     "data": {
      "text/plain": [
       "CRIM       0\n",
       "ZN         0\n",
       "INDUS      0\n",
       "CHAS       0\n",
       "NOX        0\n",
       "RM         5\n",
       "AGE        0\n",
       "DIS        0\n",
       "RAD        0\n",
       "TAX        0\n",
       "PTRATIO    0\n",
       "B          0\n",
       "LSTAT      0\n",
       "MEDV       0\n",
       "dtype: int64"
      ]
     },
     "execution_count": 27,
     "metadata": {},
     "output_type": "execute_result"
    }
   ],
   "source": [
    "# Find if there are any NULL values.\n",
    "boston_df.isnull().sum()"
   ]
  },
  {
   "cell_type": "code",
   "execution_count": 28,
   "id": "a4804180",
   "metadata": {},
   "outputs": [
    {
     "name": "stdout",
     "output_type": "stream",
     "text": [
      "Boston dataset after dropping null values: (506, 14)\n"
     ]
    }
   ],
   "source": [
    "# Drop all NULL rows and examine the size of the dataframe again.\n",
    "boston_df = boston_df.dropna(axis=0)\n",
    "print (f'Boston dataset after dropping null values: {boston_df.shape}')"
   ]
  },
  {
   "cell_type": "code",
   "execution_count": 29,
   "id": "77c301ff",
   "metadata": {},
   "outputs": [
    {
     "data": {
      "text/plain": [
       "CRIM       float64\n",
       "ZN         float64\n",
       "INDUS      float64\n",
       "CHAS         int64\n",
       "NOX        float64\n",
       "RM         float64\n",
       "AGE        float64\n",
       "DIS        float64\n",
       "RAD          int64\n",
       "TAX          int64\n",
       "PTRATIO    float64\n",
       "B          float64\n",
       "LSTAT      float64\n",
       "MEDV       float64\n",
       "dtype: object"
      ]
     },
     "execution_count": 29,
     "metadata": {},
     "output_type": "execute_result"
    }
   ],
   "source": [
    "# Find column types. We observe they are all numeric, and we require no special handling.\n",
    "boston_df.dtypes"
   ]
  },
  {
   "cell_type": "code",
   "execution_count": 30,
   "id": "a0b6c098",
   "metadata": {},
   "outputs": [
    {
     "name": "stdout",
     "output_type": "stream",
     "text": [
      "Separating features and target: (506, 13) | (506,)\n"
     ]
    }
   ],
   "source": [
    "# Use all columns except MEDV as the features, and use the MEDV column as the target.\n",
    "X = boston_df.drop(columns=['MEDV'])\n",
    "Y = boston_df['MEDV']\n",
    "print (f'Separating features and target: {X.shape} | {Y.shape}')"
   ]
  },
  {
   "cell_type": "code",
   "execution_count": 31,
   "id": "456cdb03",
   "metadata": {},
   "outputs": [
    {
     "name": "stdout",
     "output_type": "stream",
     "text": [
      "After splitting data: X train:(404, 13), Y train: (404,), X test: (102, 13), Y test: (102,)\n"
     ]
    }
   ],
   "source": [
    "# Split data into training and testing sets. 80% data is used for training\n",
    "X_train, X_test, Y_train, Y_test = train_test_split(X, Y, test_size = 0.2, random_state=100)\n",
    "print(f'After splitting data: X train:{X_train.shape}, Y train: {Y_train.shape}, \\\n",
    "X test: {X_test.shape}, Y test: {Y_test.shape}')"
   ]
  },
  {
   "cell_type": "code",
   "execution_count": 32,
   "id": "1d46ed40",
   "metadata": {},
   "outputs": [
    {
     "data": {
      "text/plain": [
       "LinearRegression()"
      ]
     },
     "execution_count": 32,
     "metadata": {},
     "output_type": "execute_result"
    }
   ],
   "source": [
    "# Instantiate a linear regression model and fit on training dataset.\n",
    "lin_model = LinearRegression()\n",
    "lin_model.fit(X_train, Y_train)"
   ]
  },
  {
   "cell_type": "code",
   "execution_count": 33,
   "id": "4443eff3",
   "metadata": {},
   "outputs": [],
   "source": [
    "# Make predictions on testing data.\n",
    "Y_pred = lin_model.predict(X_test)"
   ]
  },
  {
   "cell_type": "code",
   "execution_count": 34,
   "id": "19c30525",
   "metadata": {},
   "outputs": [
    {
     "name": "stdout",
     "output_type": "stream",
     "text": [
      "Model intercept: 19.769695040117817, Model coefficients: [-1.73718114e-01  5.00236245e-02 -1.71249414e-02  3.60120412e+00\n",
      " -1.73636858e+01  5.81396262e+00 -5.59968595e-02 -1.93145874e+00\n",
      "  2.21743501e-01 -1.30579236e-02 -6.08422755e-01  9.02413267e-03\n",
      " -1.01329327e-01]\n"
     ]
    }
   ],
   "source": [
    "# Print the model coefficients.\n",
    "print (f'Model intercept: {lin_model.intercept_}, Model coefficients: {lin_model.coef_}')"
   ]
  },
  {
   "cell_type": "code",
   "execution_count": 37,
   "id": "dba286f7",
   "metadata": {},
   "outputs": [
    {
     "name": "stdout",
     "output_type": "stream",
     "text": [
      "Mean squared error: 16.05\n",
      "Training accuracy: 0.60\n",
      "Testing accuracy: 0.75\n"
     ]
    }
   ],
   "source": [
    "# Print RMSE and accuracy.\n",
    "\n",
    "# The mean squared error\n",
    "print (f'Mean squared error: {mean_squared_error(Y_test, Y_pred):.2f}')\n",
    "\n",
    "# Model accuracy:\n",
    "print (f'Training accuracy: {lin_model.score(X_train, Y_train):.2f}')\n",
    "print (f'Testing accuracy: {lin_model.score(X_test, Y_test):.2f}')"
   ]
  },
  {
   "cell_type": "code",
   "execution_count": 38,
   "id": "182f4b10",
   "metadata": {},
   "outputs": [
    {
     "name": "stdout",
     "output_type": "stream",
     "text": [
      "                 Results: Ordinary least squares\n",
      "==================================================================\n",
      "Model:              OLS              Adj. R-squared:     0.585    \n",
      "Dependent Variable: MEDV             AIC:                2649.9501\n",
      "Date:               2021-09-05 01:12 BIC:                2705.9699\n",
      "No. Observations:   404              Log-Likelihood:     -1311.0  \n",
      "Df Model:           13               F-statistic:        44.79    \n",
      "Df Residuals:       390              Prob (F-statistic): 4.00e-69 \n",
      "R-squared:          0.599            Scale:              39.940   \n",
      "-------------------------------------------------------------------\n",
      "              Coef.    Std.Err.     t     P>|t|    [0.025    0.975]\n",
      "-------------------------------------------------------------------\n",
      "const         19.7697    7.3766   2.6800  0.0077    5.2668  34.2726\n",
      "CRIM          -0.1737    0.0463  -3.7492  0.0002   -0.2648  -0.0826\n",
      "ZN             0.0500    0.0207   2.4195  0.0160    0.0094   0.0907\n",
      "INDUS         -0.0171    0.0930  -0.1841  0.8540   -0.2000   0.1658\n",
      "CHAS           3.6012    1.3359   2.6956  0.0073    0.9747   6.2277\n",
      "NOX          -17.3637    5.8680  -2.9591  0.0033  -28.9005  -5.8268\n",
      "RM             5.8140    0.5613  10.3576  0.0000    4.7104   6.9176\n",
      "AGE           -0.0560    0.0187  -2.9896  0.0030   -0.0928  -0.0192\n",
      "DIS           -1.9315    0.3046  -6.3410  0.0000   -2.5303  -1.3326\n",
      "RAD            0.2217    0.0983   2.2564  0.0246    0.0285   0.4150\n",
      "TAX           -0.0131    0.0056  -2.3273  0.0205   -0.0241  -0.0020\n",
      "PTRATIO       -0.6084    0.1920  -3.1688  0.0017   -0.9859  -0.2309\n",
      "B              0.0090    0.0042   2.1436  0.0327    0.0007   0.0173\n",
      "LSTAT         -0.1013    0.0571  -1.7739  0.0769   -0.2136   0.0110\n",
      "------------------------------------------------------------------\n",
      "Omnibus:              302.320      Durbin-Watson:         1.975   \n",
      "Prob(Omnibus):        0.000        Jarque-Bera (JB):      5335.107\n",
      "Skew:                 3.015        Prob(JB):              0.000   \n",
      "Kurtosis:             19.751       Condition No.:         15015   \n",
      "==================================================================\n",
      "* The condition number is large (2e+04). This might indicate\n",
      "strong multicollinearity or other numerical problems.\n"
     ]
    }
   ],
   "source": [
    "# The sklearn linear model fit doesn't give p-value information. To get this info and display\n",
    "# it in a table, we will use statsmodels instead. \n",
    "# Source: https://stackoverflow.com/questions/27928275/find-p-value-significance-in-scikit-learn-linearregression\n",
    "import statsmodels.api as sm\n",
    "\n",
    "X2_train = sm.add_constant(X_train)\n",
    "lin_mod = sm.OLS(Y_train,X2_train)\n",
    "\n",
    "fii = lin_mod.fit()\n",
    "summary = fii.summary2()\n",
    "print (summary)"
   ]
  },
  {
   "cell_type": "code",
   "execution_count": 39,
   "id": "ae6bf42f",
   "metadata": {},
   "outputs": [
    {
     "name": "stdout",
     "output_type": "stream",
     "text": [
      "Mean squared error: 7.99\n",
      "Training accuracy: 0.97\n",
      "Testing accuracy: 0.87\n"
     ]
    }
   ],
   "source": [
    "# Now, instantiate the Random Forrest model.\n",
    "rf_model = RandomForestRegressor(criterion='mae', n_estimators=128, random_state=50)\n",
    "rf_model = brf_model.fit(X_train, Y_train)\n",
    "Y_pred = rf_model.predict(X_test)\n",
    "\n",
    "# The mean squared error\n",
    "print (f'Mean squared error: {mean_squared_error(Y_test, Y_pred):.2f}')\n",
    "\n",
    "# Model accuracy:\n",
    "print (f'Training accuracy: {rf_model.score(X_train, Y_train):.2f}')\n",
    "print (f'Testing accuracy: {rf_model.score(X_test, Y_test):.2f}')"
   ]
  },
  {
   "cell_type": "code",
   "execution_count": null,
   "id": "37b6d437",
   "metadata": {},
   "outputs": [],
   "source": []
  }
 ],
 "metadata": {
  "kernelspec": {
   "display_name": "mlenv",
   "language": "python",
   "name": "mlenv"
  },
  "language_info": {
   "codemirror_mode": {
    "name": "ipython",
    "version": 3
   },
   "file_extension": ".py",
   "mimetype": "text/x-python",
   "name": "python",
   "nbconvert_exporter": "python",
   "pygments_lexer": "ipython3",
   "version": "3.7.10"
  }
 },
 "nbformat": 4,
 "nbformat_minor": 5
}
